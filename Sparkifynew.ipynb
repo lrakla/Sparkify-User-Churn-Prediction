{
 "cells": [
  {
   "cell_type": "markdown",
   "metadata": {},
   "source": [
    "# Sparkify Project Workspace\n",
    "This workspace contains a tiny subset (128MB) of the full dataset available (12GB). Feel free to use this workspace to build your project, or to explore a smaller subset with Spark before deploying your cluster on the cloud.\n",
    "You can follow the steps below to guide your data analysis and model building portion of this project."
   ]
  },
  {
   "cell_type": "markdown",
   "metadata": {},
   "source": [
    "## 1.0 Import libraries and start the session."
   ]
  },
  {
   "cell_type": "code",
   "execution_count": 55,
   "metadata": {},
   "outputs": [],
   "source": [
    "#import libraries\n",
    "from pyspark.sql import SparkSession\n",
    "from pyspark.sql.functions import avg, col, concat, desc,lit, min, max, split, udf,count\\\n",
    ",when,isnan,regexp_replace,countDistinct,month,from_unixtime,to_timestamp,lead,datediff,mean,to_date\n",
    "from pyspark.sql.functions import sum as Fsum\n",
    "from pyspark.sql.types import *\n",
    "from pyspark.sql.window import Window\n",
    "\n",
    "%matplotlib inline\n",
    "import matplotlib.pyplot as plt\n",
    "import pandas as pd\n",
    "import numpy as np\n",
    "import seaborn as sns\n",
    "import re\n",
    "\n",
    "from pyspark.ml import Pipeline\n",
    "from pyspark.ml.classification import LogisticRegression,RandomForestClassifier, GBTClassifier\n",
    "from pyspark.ml.evaluation import BinaryClassificationEvaluator, MulticlassClassificationEvaluator\n",
    "from pyspark.ml.feature import MinMaxScaler, StringIndexer, VectorAssembler\n",
    "from pyspark.ml.tuning import CrossValidator, ParamGridBuilder\n"
   ]
  },
  {
   "cell_type": "code",
   "execution_count": null,
   "metadata": {},
   "outputs": [],
   "source": [
    "# create a Spark session\n",
    "spark = SparkSession.builder \\\n",
    "    .master(\"local\") \\\n",
    "    .appName(\"Churn Predictor\") \\\n",
    "    .getOrCreate()"
   ]
  },
  {
   "cell_type": "markdown",
   "metadata": {},
   "source": [
    "# 2.0 Load and Clean Dataset\n",
    "In this workspace, the mini-dataset file is `mini_sparkify_event_data.json`. Load and clean the dataset, checking for invalid or missing data - for example, records without userids or sessionids. "
   ]
  },
  {
   "cell_type": "code",
   "execution_count": null,
   "metadata": {},
   "outputs": [],
   "source": [
    " #load spark data\n",
    "df = spark.read.json('mini_sparkify_event_data.json')\n",
    "df.persist()"
   ]
  },
  {
   "cell_type": "markdown",
   "metadata": {},
   "source": [
    "### 2.1 Removing missing/incorrect values"
   ]
  },
  {
   "cell_type": "code",
   "execution_count": null,
   "metadata": {},
   "outputs": [],
   "source": [
    "#remove user ids which are empty strings\n",
    "df = df.filter(df[\"userId\"] != \"\")"
   ]
  },
  {
   "cell_type": "markdown",
   "metadata": {},
   "source": [
    "### 2.2 Timestamp formatting"
   ]
  },
  {
   "cell_type": "code",
   "execution_count": null,
   "metadata": {},
   "outputs": [],
   "source": [
    "# change the original timestamp in the dataset to the common format\n",
    "get_time = udf(lambda x: pd.Timestamp(x / 1000.0,unit='s').strftime(\"%Y-%m-%d %H:%M:%S\"))\n",
    "df = df.withColumn(\"time\", get_time(df.ts)).withColumn('registration_time',get_time(df.registration))\n",
    "df = df.withColumn('month', month(col('time')))\n",
    "df = df.withColumn('date', from_unixtime(col('ts')/1000).cast(DateType()))"
   ]
  },
  {
   "cell_type": "markdown",
   "metadata": {},
   "source": [
    "#### The data is of rougly 2 months i.e from 1st October to 3rd December 2018. "
   ]
  },
  {
   "cell_type": "markdown",
   "metadata": {},
   "source": [
    "# 3.0 Exploratory Data Analysis\n",
    "When you're working with the full dataset, perform EDA by loading a small subset of the data and doing basic manipulations within Spark. In this workspace, you are already provided a small subset of data you can explore.\n",
    "\n",
    "### 3.1 Define Churn\n",
    "\n",
    "Once you've done some preliminary analysis, create a column `Churn` to use as the label for your model. I suggest using the `Cancellation Confirmation` events to define your churn, which happen for both paid and free users. As a bonus task, you can also look into the `Downgrade` events.\n",
    "\n",
    "### 3.2 Explore Data\n",
    "Once you've defined churn, perform some exploratory data analysis to observe the behavior for users who stayed vs users who churned. You can start by exploring aggregates on these two groups of users, observing how much of a specific action they experienced per a certain time unit or number of songs played."
   ]
  },
  {
   "cell_type": "markdown",
   "metadata": {},
   "source": [
    "### 3.1.1 Churn means when a user cancels their association with the service. \n",
    "Using page =='Cancellation Confirmation' & auth =='Cancelled' I will label the users are churned (1) or not (0)."
   ]
  },
  {
   "cell_type": "markdown",
   "metadata": {},
   "source": [
    "#### This shows that all user ids which are churned have page =='Cancellation Confirmation' & auth =='Cancelled' i.e there is no userId with only one factor."
   ]
  },
  {
   "cell_type": "code",
   "execution_count": null,
   "metadata": {},
   "outputs": [],
   "source": [
    "#label data\n",
    "df = df.join(df.withColumn('churn',when(col('page')=='Cancellation Confirmation', 1).otherwise(0)).\\\n",
    "                            groupBy('userId').agg(Fsum('churn').alias('churn')), on='userId')"
   ]
  },
  {
   "cell_type": "markdown",
   "metadata": {},
   "source": [
    "### 3.1.2 Analysing characteristics of churned users\n",
    "#### 3.1.2.1 EDA on existing & new features (in Spark-EDA.ipynb)"
   ]
  },
  {
   "cell_type": "markdown",
   "metadata": {},
   "source": [
    "# 4.0 Feature Engineering\n",
    "Once you've familiarized yourself with the data, build out the features you find promising to train your model on. To work with the full dataset, you can follow the following steps.\n",
    "- Write a script to extract the necessary features from the smaller subset of data\n",
    "- Ensure that your script is scalable, using the best practices discussed in Lesson 3\n",
    "- Try your script on the full data set, debugging your script if necessary\n"
   ]
  },
  {
   "cell_type": "markdown",
   "metadata": {},
   "source": [
    "### 4.1 \n",
    "In this section, a few features engineered in EDA are used. These are -\n",
    "1. Artist count\n",
    "2. Songs count\n",
    "3. No. of sessions\n",
    "4. Total length\n",
    "5. Visit count\n",
    "\n",
    "A couple of features are tranformed in appropriate form -\n",
    "6. Gender\n",
    "7. Level\n",
    "\n",
    "New features are also engineered. These are -\n",
    "8. Page related\n",
    "9. Avg. time of sessions\n",
    "10. Gap between sessions\n",
    "11. Item in session aggregate"
   ]
  },
  {
   "cell_type": "code",
   "execution_count": null,
   "metadata": {},
   "outputs": [],
   "source": [
    "#This dataframe contains userId and churn columns only. Engineered features will be joined here.\n",
    "user_churn = df.groupBy(\"userId\").max(\"churn\").withColumnRenamed(\"max(churn)\", \"churn\").select([\"userId\", \"churn\"])"
   ]
  },
  {
   "cell_type": "code",
   "execution_count": null,
   "metadata": {
    "scrolled": true
   },
   "outputs": [],
   "source": [
    "#Count number of unique artists a user listens to\n",
    "df_artist = df.groupby(\"userId\") \\\n",
    "                                    .agg(countDistinct(\"artist\")) \\\n",
    "                                    .withColumnRenamed(\"count(artist)\", \"artist_count\")\n",
    "user_churn = user_churn.join(df_artist,[\"userId\"])"
   ]
  },
  {
   "cell_type": "code",
   "execution_count": null,
   "metadata": {},
   "outputs": [],
   "source": [
    "#Calculate total number of times a userId is there in df\n",
    "df_visits = df.groupby(\"userId\") \\\n",
    "                                      .count() \\\n",
    "                                      .withColumnRenamed(\"count\", \"visit_count\")\n",
    "user_churn = user_churn.join(df_visits,[\"userId\"])"
   ]
  },
  {
   "cell_type": "code",
   "execution_count": null,
   "metadata": {},
   "outputs": [],
   "source": [
    "#Calculate numer of unique songs a user listens to \n",
    "df_count_songs = df.groupby(\"userId\")\\\n",
    "                                    .agg(countDistinct(\"song\"))\\\n",
    "                                    .withColumnRenamed(\"count(song)\", \"song_count\")\n",
    "user_churn = user_churn.join(df_count_songs,[\"userId\"])"
   ]
  },
  {
   "cell_type": "code",
   "execution_count": null,
   "metadata": {},
   "outputs": [],
   "source": [
    "#Calculate total length associated with each user\n",
    "df_length = df.groupby(\"userId\")\\\n",
    "                            .agg({\"length\" : \"sum\"})\\\n",
    "                               .withColumnRenamed(\"sum(length)\",\"total_length\")\n",
    "user_churn = user_churn.join(df_length,[\"userId\"])\n",
    "#user_churn.show(n=5)"
   ]
  },
  {
   "cell_type": "code",
   "execution_count": null,
   "metadata": {},
   "outputs": [],
   "source": [
    "#time related features\n",
    "\n",
    "#1. Registered days i.e time between day of registration and now\n",
    "user_time=df.groupBy('userId','registration_time').agg(min('time'),max('time'))\n",
    "user_time=user_time.select('userId','registration_time',\n",
    "                          to_timestamp('min(time)', 'yyyy-MM-dd HH:mm:ss').alias('first_time'),\n",
    "                          to_timestamp('max(time)', 'yyyy-MM-dd HH:mm:ss').alias('last_time'))\n",
    "#2.Days between last day for a user and last day in df\n",
    "user_time=user_time.withColumn('registered_days',datediff('last_time','first_time')).withColumn(\n",
    "    'last_recent',datediff(to_date(lit(\"2018-12-03\")),'last_time')) #(2018-12-03) is the last date in the dataframe\n",
    "user_time=user_time.select('userId','registered_days','last_recent')\n",
    "\n",
    "user_churn=user_churn.join(user_time, ['userId'])\n",
    "#user_churn.show()"
   ]
  },
  {
   "cell_type": "code",
   "execution_count": null,
   "metadata": {},
   "outputs": [],
   "source": [
    "#turn gender into 0(M) and 1(F)\n",
    "flag_gender = udf(lambda x: 1 if x == \"F\" else 0, IntegerType())\n",
    "user_gender = df.withColumn(\"gender\", flag_gender(\"gender\"))\n",
    "user_gender = user_gender.groupby('userId').agg({\"gender\": \"max\"}).withColumnRenamed(\"max(gender)\", \"gender\")\n",
    "user_churn=user_churn.join(user_gender, ['userId'])\n",
    "#user_gender.show(5)"
   ]
  },
  {
   "cell_type": "code",
   "execution_count": null,
   "metadata": {
    "scrolled": true
   },
   "outputs": [],
   "source": [
    "#turn level into 0 and 1(paid)\n",
    "flag_level = udf(lambda x: 1 if x == \"paid\" else 0, IntegerType())\n",
    "user_level = df.withColumn(\"level\", flag_level(\"level\"))\n",
    "user_level = user_level.groupby('userId').agg({\"level\": \"max\"}).withColumnRenamed(\"max(level)\", \"level\")\n",
    "user_churn=user_churn.join(user_level, ['userId'])\n",
    "#user_level.show(5)"
   ]
  },
  {
   "cell_type": "code",
   "execution_count": null,
   "metadata": {},
   "outputs": [],
   "source": [
    "#Calculate on avg. the number of items a user listens to everyday\n",
    "daily_item_df = df.groupby('userId','date').agg(max('itemInSession')).\\\n",
    "                    groupBy('userId').avg('max(itemInSession)').\\\n",
    "                    withColumnRenamed('avg(max(itemInSession))', 'avg_daily_items')\n",
    "user_churn = user_churn.join(daily_item_df,['userId'])\n",
    "#user_churn.show()"
   ]
  },
  {
   "cell_type": "code",
   "execution_count": null,
   "metadata": {},
   "outputs": [],
   "source": [
    "# page view related feature: calculate number of visited pages, proportion of different types of pages\n",
    "df_page_view=df.groupBy('userId').pivot('page').count()\n",
    "df_page_view=df_page_view.na.fill(0).drop('Cancellation Confirmation','Cancel')\n",
    "\n",
    "df_page_totalview=df.filter(\"page != 'Cancellation Confirmation' and page != 'Cancel'\" ).groupBy('userId').count()\n",
    "\n",
    "# change actual number to percentage \n",
    "df_page_view=df_page_view.join(df_page_totalview,['userId'])\n",
    "columns=df_page_view.columns\n",
    "columns=[column for column in columns if column not in ('userId', 'count')]\n",
    "\n",
    "for colName in columns:\n",
    "    df_page_view = df_page_view.withColumn(colName, col(colName)/col('count'))\n",
    "\n",
    "user_churn = user_churn.join(df_page_view,[\"userId\"])\n",
    "    "
   ]
  },
  {
   "cell_type": "code",
   "execution_count": null,
   "metadata": {},
   "outputs": [],
   "source": [
    "# session related features\n",
    "\n",
    "# calculate number of sessions of each user\n",
    "user_session = df.groupby(\"userId\").agg(countDistinct('sessionId'))\n",
    "\n",
    "\n",
    "# calculate time of each session\n",
    "user_session_time=df.groupBy('userId','sessionId').agg(min('time'),max('time')).orderBy('userId','sessionId')\n",
    "user_session_time=user_session_time.select('userId','sessionId',\n",
    "                          to_timestamp('min(time)', 'yyyy-MM-dd HH:mm:ss').alias('first_time'),\n",
    "                          to_timestamp('max(time)', 'yyyy-MM-dd HH:mm:ss').alias('last_time'))\n",
    "\n",
    "user_session_time=user_session_time.withColumn('session_duration_mins',(col(\"last_time\").cast(\"long\") - col(\"first_time\")\\\n",
    "                                                                            .cast(\"long\"))/60)\n",
    "\n",
    "# calculate gap time of each pair of close sessions \n",
    "\n",
    "user_session_time=user_session_time.withColumn('next_session_start_time',lead(user_session_time['first_time'])\n",
    "                                 .over(Window.partitionBy(\"userId\").orderBy('sessionId')))    \n",
    "\n",
    "user_session_time=user_session_time.withColumn('gap_time',datediff('next_session_start_time','first_time'))\n",
    "\n",
    "# aggregate these two features at user level\n",
    "user_session_time=user_session_time.groupBy('userId').agg(mean('session_duration_mins').alias('avg_session_duration_mins'),\n",
    "                                           mean('gap_time').alias('avg_gap_time_days')).fillna(0)\n",
    "\n",
    "\n",
    "#merge with user dataframe\n",
    "df_session=user_session_time.join(user_session,[\"userId\"])\n",
    "user_churn = user_churn.join(df_session,[\"userId\"])\n",
    "#user_churn.show()"
   ]
  },
  {
   "cell_type": "code",
   "execution_count": null,
   "metadata": {
    "scrolled": false
   },
   "outputs": [],
   "source": [
    "#user_churn.write.save(\"final_data2.csv\",format = \"csv\",header = True,)"
   ]
  },
  {
   "cell_type": "code",
   "execution_count": null,
   "metadata": {
    "scrolled": true
   },
   "outputs": [],
   "source": [
    "#user_churn.select([count(when(isnan(c) | col(c).isNull(), c)).alias(c) for c in user_churn.columns]).collect()\n",
    "#uncomment this to check if the user_churn dataframe has missing values"
   ]
  },
  {
   "cell_type": "markdown",
   "metadata": {},
   "source": [
    "# 5.0 Modeling\n",
    "Split the full dataset into train, test, and validation sets. Test out several of the machine learning methods you learned. Evaluate the accuracy of the various models, tuning parameters as necessary. Determine your winning model based on test accuracy and report results on the validation set. Since the churned users are a fairly small subset, I suggest using F1 score as the metric to optimize."
   ]
  },
  {
   "cell_type": "code",
   "execution_count": null,
   "metadata": {},
   "outputs": [],
   "source": [
    "user_churn = user_churn.drop(\"userId\") #we do not need userId for modelling\n",
    "feature_columns = [col for col in user_churn.columns if col!='churn'] #feature columns don't include churn as that is the target"
   ]
  },
  {
   "cell_type": "code",
   "execution_count": null,
   "metadata": {},
   "outputs": [],
   "source": [
    "#user_churn.printSchema()"
   ]
  },
  {
   "cell_type": "markdown",
   "metadata": {},
   "source": [
    "#### Split data into Train & Test"
   ]
  },
  {
   "cell_type": "code",
   "execution_count": null,
   "metadata": {},
   "outputs": [],
   "source": [
    "train, test = user_churn.randomSplit([0.7, 0.3], seed=42)\n",
    "train = train.cache()"
   ]
  },
  {
   "cell_type": "code",
   "execution_count": 56,
   "metadata": {},
   "outputs": [],
   "source": [
    "def build_model(classifier, param):\n",
    "    \"\"\"\n",
    "    Builds a model based on the inputs\n",
    "    Input:\n",
    "    classifier - type of classifier\n",
    "    param - built param grid\n",
    "    Output :\n",
    "    model - ML pipeline model\n",
    "    \"\"\"\n",
    "    assembler = VectorAssembler(inputCols=feature_columns, outputCol=\"features\")\n",
    "    scaler = MinMaxScaler(inputCol=\"features\", outputCol=\"scaled_features\")\n",
    "    pipeline = Pipeline(stages=[assembler, scaler, classifier])\n",
    "\n",
    "    model = CrossValidator(\n",
    "        estimator=pipeline,\n",
    "        estimatorParamMaps=param,\n",
    "        evaluator = MulticlassClassificationEvaluator(labelCol='churn', metricName='f1'),\n",
    "        numFolds=5,\n",
    "    )\n",
    "    return model"
   ]
  },
  {
   "cell_type": "markdown",
   "metadata": {},
   "source": [
    "F1 score is used as an evaluation metric because in case of a skewed dataset, accuracy is unreliable. F1 score is a combination of precision and recall (2PR/(P+R)) and hence gives a better result. Area under curve(auc) can also be used."
   ]
  },
  {
   "cell_type": "markdown",
   "metadata": {},
   "source": [
    "### 5.1 Logistic Regression\n",
    "Logistic Regression is the simplest classification algorithm. It is used as a baseline for evaluationg other models."
   ]
  },
  {
   "cell_type": "code",
   "execution_count": null,
   "metadata": {},
   "outputs": [],
   "source": [
    "#lr = LogisticRegression(featuresCol=\"scaled_features\", labelCol=\"churn\")\n",
    "#lr_param = ParamGridBuilder().build()\n",
    "#model = build_model(lr, lr_param)"
   ]
  },
  {
   "cell_type": "code",
   "execution_count": null,
   "metadata": {},
   "outputs": [],
   "source": [
    "%%time\n",
    "#fit_model = model.fit(train)"
   ]
  },
  {
   "cell_type": "code",
   "execution_count": null,
   "metadata": {},
   "outputs": [],
   "source": [
    "#pred = fit_model.transform(test)"
   ]
  },
  {
   "cell_type": "code",
   "execution_count": null,
   "metadata": {},
   "outputs": [],
   "source": [
    "#pred.select(\"prediction\").dropDuplicates().collect()"
   ]
  },
  {
   "cell_type": "code",
   "execution_count": 58,
   "metadata": {},
   "outputs": [],
   "source": [
    "evaluator = MulticlassClassificationEvaluator(predictionCol=\"prediction\", labelCol=\"churn\")\n",
    "#f1_score = evaluator.evaluate(pred, {evaluator.metricName: \"f1\"})\n",
    "#print(\"f1: {}\".format(f1_score))"
   ]
  },
  {
   "cell_type": "markdown",
   "metadata": {},
   "source": [
    "### 5.2 Random Forest "
   ]
  },
  {
   "cell_type": "code",
   "execution_count": 51,
   "metadata": {},
   "outputs": [],
   "source": [
    "rf = RandomForestClassifier(featuresCol=\"scaled_features\", labelCol=\"churn\")\n",
    "rf_param = ParamGridBuilder().build()\n",
    "rf_model = build_model(rf, rf_param)"
   ]
  },
  {
   "cell_type": "code",
   "execution_count": 52,
   "metadata": {},
   "outputs": [
    {
     "name": "stdout",
     "output_type": "stream",
     "text": [
      "CPU times: user 2.35 s, sys: 592 ms, total: 2.94 s\n",
      "Wall time: 5min 32s\n"
     ]
    }
   ],
   "source": [
    "%%time\n",
    "rf_fit_model = rf_model.fit(train)"
   ]
  },
  {
   "cell_type": "code",
   "execution_count": 53,
   "metadata": {},
   "outputs": [],
   "source": [
    "rf_pred = rf_fit_model.transform(test)"
   ]
  },
  {
   "cell_type": "code",
   "execution_count": 59,
   "metadata": {},
   "outputs": [
    {
     "name": "stdout",
     "output_type": "stream",
     "text": [
      "f1: 0.8300747170148985\n"
     ]
    }
   ],
   "source": [
    "rf_f1_score = evaluator.evaluate(rf_pred, {evaluator.metricName: \"f1\"})\n",
    "print(\"f1: {}\".format(rf_f1_score))"
   ]
  },
  {
   "cell_type": "markdown",
   "metadata": {},
   "source": [
    "### 5.3 Gradient Boosting"
   ]
  },
  {
   "cell_type": "code",
   "execution_count": null,
   "metadata": {},
   "outputs": [],
   "source": [
    "#gbt =GBTClassifier(featuresCol=\"scaled_features\", labelCol=\"churn\")\n",
    "#gbt_param = ParamGridBuilder().build()\n",
    "#gbt_model = build_model(gbt, gbt_param)"
   ]
  },
  {
   "cell_type": "code",
   "execution_count": null,
   "metadata": {},
   "outputs": [],
   "source": [
    "%%time\n",
    "#gbt_fit_model = gbt_model.fit(train)"
   ]
  },
  {
   "cell_type": "code",
   "execution_count": null,
   "metadata": {},
   "outputs": [],
   "source": [
    "#gbt_pred = gbt_fit_model.transform(test)"
   ]
  },
  {
   "cell_type": "code",
   "execution_count": null,
   "metadata": {},
   "outputs": [],
   "source": [
    "#gbt_pred.select(\"prediction\").dropDuplicates().collect()"
   ]
  },
  {
   "cell_type": "code",
   "execution_count": null,
   "metadata": {},
   "outputs": [],
   "source": [
    "#gbt_f1_score = evaluator.evaluate(gbt_pred, {evaluator.metricName: \"f1\"})\n",
    "#print(\"f1: {}\".format(gbt_f1_score))"
   ]
  },
  {
   "cell_type": "markdown",
   "metadata": {},
   "source": [
    "With default parameters (without hyperparameter tuning), Random Forest(RF) gives me a better result than that of GBT classifier or Logistic Regression. It is also insensitive to imbalances. Hence, I will tune RF classifier. "
   ]
  },
  {
   "cell_type": "markdown",
   "metadata": {},
   "source": [
    "### 5.4 Hyperparameter tuning\n",
    "#### Feature Importances\n"
   ]
  },
  {
   "cell_type": "code",
   "execution_count": 63,
   "metadata": {},
   "outputs": [
    {
     "data": {
      "text/html": [
       "<div>\n",
       "<style scoped>\n",
       "    .dataframe tbody tr th:only-of-type {\n",
       "        vertical-align: middle;\n",
       "    }\n",
       "\n",
       "    .dataframe tbody tr th {\n",
       "        vertical-align: top;\n",
       "    }\n",
       "\n",
       "    .dataframe thead th {\n",
       "        text-align: right;\n",
       "    }\n",
       "</style>\n",
       "<table border=\"1\" class=\"dataframe\">\n",
       "  <thead>\n",
       "    <tr style=\"text-align: right;\">\n",
       "      <th></th>\n",
       "      <th>feature</th>\n",
       "      <th>importance</th>\n",
       "    </tr>\n",
       "  </thead>\n",
       "  <tbody>\n",
       "    <tr>\n",
       "      <th>0</th>\n",
       "      <td>last_recent</td>\n",
       "      <td>0.241378</td>\n",
       "    </tr>\n",
       "    <tr>\n",
       "      <th>1</th>\n",
       "      <td>registered_days</td>\n",
       "      <td>0.121433</td>\n",
       "    </tr>\n",
       "    <tr>\n",
       "      <th>2</th>\n",
       "      <td>avg_gap_time_days</td>\n",
       "      <td>0.089996</td>\n",
       "    </tr>\n",
       "    <tr>\n",
       "      <th>3</th>\n",
       "      <td>Thumbs Down</td>\n",
       "      <td>0.076021</td>\n",
       "    </tr>\n",
       "    <tr>\n",
       "      <th>4</th>\n",
       "      <td>count(DISTINCT sessionId)</td>\n",
       "      <td>0.055237</td>\n",
       "    </tr>\n",
       "    <tr>\n",
       "      <th>5</th>\n",
       "      <td>count(DISTINCT artist)</td>\n",
       "      <td>0.049162</td>\n",
       "    </tr>\n",
       "    <tr>\n",
       "      <th>6</th>\n",
       "      <td>count(DISTINCT song)</td>\n",
       "      <td>0.039429</td>\n",
       "    </tr>\n",
       "    <tr>\n",
       "      <th>7</th>\n",
       "      <td>Thumbs Up</td>\n",
       "      <td>0.037096</td>\n",
       "    </tr>\n",
       "    <tr>\n",
       "      <th>8</th>\n",
       "      <td>Downgrade</td>\n",
       "      <td>0.035938</td>\n",
       "    </tr>\n",
       "    <tr>\n",
       "      <th>9</th>\n",
       "      <td>visit_count</td>\n",
       "      <td>0.023893</td>\n",
       "    </tr>\n",
       "    <tr>\n",
       "      <th>10</th>\n",
       "      <td>Home</td>\n",
       "      <td>0.023591</td>\n",
       "    </tr>\n",
       "    <tr>\n",
       "      <th>11</th>\n",
       "      <td>Add Friend</td>\n",
       "      <td>0.021515</td>\n",
       "    </tr>\n",
       "    <tr>\n",
       "      <th>12</th>\n",
       "      <td>Add to Playlist</td>\n",
       "      <td>0.020936</td>\n",
       "    </tr>\n",
       "    <tr>\n",
       "      <th>13</th>\n",
       "      <td>Logout</td>\n",
       "      <td>0.020473</td>\n",
       "    </tr>\n",
       "    <tr>\n",
       "      <th>14</th>\n",
       "      <td>NextSong</td>\n",
       "      <td>0.018571</td>\n",
       "    </tr>\n",
       "    <tr>\n",
       "      <th>15</th>\n",
       "      <td>Help</td>\n",
       "      <td>0.017743</td>\n",
       "    </tr>\n",
       "    <tr>\n",
       "      <th>16</th>\n",
       "      <td>Error</td>\n",
       "      <td>0.016193</td>\n",
       "    </tr>\n",
       "    <tr>\n",
       "      <th>17</th>\n",
       "      <td>avg_daily_items</td>\n",
       "      <td>0.014656</td>\n",
       "    </tr>\n",
       "    <tr>\n",
       "      <th>18</th>\n",
       "      <td>Roll Advert</td>\n",
       "      <td>0.013433</td>\n",
       "    </tr>\n",
       "    <tr>\n",
       "      <th>19</th>\n",
       "      <td>Settings</td>\n",
       "      <td>0.012583</td>\n",
       "    </tr>\n",
       "    <tr>\n",
       "      <th>20</th>\n",
       "      <td>count</td>\n",
       "      <td>0.011835</td>\n",
       "    </tr>\n",
       "    <tr>\n",
       "      <th>21</th>\n",
       "      <td>total_length</td>\n",
       "      <td>0.008893</td>\n",
       "    </tr>\n",
       "    <tr>\n",
       "      <th>22</th>\n",
       "      <td>About</td>\n",
       "      <td>0.008311</td>\n",
       "    </tr>\n",
       "    <tr>\n",
       "      <th>23</th>\n",
       "      <td>gender</td>\n",
       "      <td>0.005183</td>\n",
       "    </tr>\n",
       "    <tr>\n",
       "      <th>24</th>\n",
       "      <td>avg_session_duration_mins</td>\n",
       "      <td>0.005129</td>\n",
       "    </tr>\n",
       "    <tr>\n",
       "      <th>25</th>\n",
       "      <td>Upgrade</td>\n",
       "      <td>0.003808</td>\n",
       "    </tr>\n",
       "    <tr>\n",
       "      <th>26</th>\n",
       "      <td>Submit Upgrade</td>\n",
       "      <td>0.002738</td>\n",
       "    </tr>\n",
       "    <tr>\n",
       "      <th>27</th>\n",
       "      <td>Submit Downgrade</td>\n",
       "      <td>0.002582</td>\n",
       "    </tr>\n",
       "    <tr>\n",
       "      <th>28</th>\n",
       "      <td>level</td>\n",
       "      <td>0.001241</td>\n",
       "    </tr>\n",
       "    <tr>\n",
       "      <th>29</th>\n",
       "      <td>Save Settings</td>\n",
       "      <td>0.001003</td>\n",
       "    </tr>\n",
       "  </tbody>\n",
       "</table>\n",
       "</div>"
      ],
      "text/plain": [
       "                      feature  importance\n",
       "0                 last_recent    0.241378\n",
       "1             registered_days    0.121433\n",
       "2           avg_gap_time_days    0.089996\n",
       "3                 Thumbs Down    0.076021\n",
       "4   count(DISTINCT sessionId)    0.055237\n",
       "5      count(DISTINCT artist)    0.049162\n",
       "6        count(DISTINCT song)    0.039429\n",
       "7                   Thumbs Up    0.037096\n",
       "8                   Downgrade    0.035938\n",
       "9                 visit_count    0.023893\n",
       "10                       Home    0.023591\n",
       "11                 Add Friend    0.021515\n",
       "12            Add to Playlist    0.020936\n",
       "13                     Logout    0.020473\n",
       "14                   NextSong    0.018571\n",
       "15                       Help    0.017743\n",
       "16                      Error    0.016193\n",
       "17            avg_daily_items    0.014656\n",
       "18                Roll Advert    0.013433\n",
       "19                   Settings    0.012583\n",
       "20                      count    0.011835\n",
       "21               total_length    0.008893\n",
       "22                      About    0.008311\n",
       "23                     gender    0.005183\n",
       "24  avg_session_duration_mins    0.005129\n",
       "25                    Upgrade    0.003808\n",
       "26             Submit Upgrade    0.002738\n",
       "27           Submit Downgrade    0.002582\n",
       "28                      level    0.001241\n",
       "29              Save Settings    0.001003"
      ]
     },
     "execution_count": 63,
     "metadata": {},
     "output_type": "execute_result"
    }
   ],
   "source": [
    "rf_feature_imp = pd.DataFrame({\"feature\":feature_columns,\"importance\" : rf_fit_model.bestModel.stages[2].featureImportances})\n",
    "rf_feature_imp.sort_values(by = \"importance\",ascending = False).reset_index(drop=True)"
   ]
  },
  {
   "cell_type": "code",
   "execution_count": 45,
   "metadata": {},
   "outputs": [],
   "source": [
    "classifier = RandomForestClassifier(featuresCol=\"scaled_features\", labelCol=\"churn\")"
   ]
  },
  {
   "cell_type": "code",
   "execution_count": 46,
   "metadata": {},
   "outputs": [],
   "source": [
    "param_grid = ParamGridBuilder() \\\n",
    "    .addGrid(classifier.maxDepth,[10,20]) \\\n",
    "    .addGrid(classifier.numTrees, [20, 70]) \\\n",
    "    .build()\n",
    "\n",
    "model_tuned = build_model(classifier, param_grid)"
   ]
  },
  {
   "cell_type": "code",
   "execution_count": 47,
   "metadata": {},
   "outputs": [
    {
     "name": "stdout",
     "output_type": "stream",
     "text": [
      "CPU times: user 11.9 s, sys: 3.09 s, total: 15 s\n",
      "Wall time: 33min 2s\n"
     ]
    }
   ],
   "source": [
    "%%time\n",
    "fit_model_tuned = model_tuned.fit(train)"
   ]
  },
  {
   "cell_type": "code",
   "execution_count": 48,
   "metadata": {},
   "outputs": [],
   "source": [
    "best_model = fit_model_tuned.bestModel"
   ]
  },
  {
   "cell_type": "code",
   "execution_count": 49,
   "metadata": {},
   "outputs": [],
   "source": [
    "best_model_pred = best_model.transform(test)"
   ]
  },
  {
   "cell_type": "code",
   "execution_count": 60,
   "metadata": {},
   "outputs": [
    {
     "name": "stdout",
     "output_type": "stream",
     "text": [
      "f1: 0.894032258064516\n"
     ]
    }
   ],
   "source": [
    "best_f1_score = evaluator.evaluate(best_model_pred, {evaluator.metricName: \"f1\"})\n",
    "print(\"f1: {}\".format(best_f1_score))"
   ]
  },
  {
   "cell_type": "code",
   "execution_count": 61,
   "metadata": {},
   "outputs": [
    {
     "data": {
      "text/html": [
       "<div>\n",
       "<style scoped>\n",
       "    .dataframe tbody tr th:only-of-type {\n",
       "        vertical-align: middle;\n",
       "    }\n",
       "\n",
       "    .dataframe tbody tr th {\n",
       "        vertical-align: top;\n",
       "    }\n",
       "\n",
       "    .dataframe thead th {\n",
       "        text-align: right;\n",
       "    }\n",
       "</style>\n",
       "<table border=\"1\" class=\"dataframe\">\n",
       "  <thead>\n",
       "    <tr style=\"text-align: right;\">\n",
       "      <th></th>\n",
       "      <th>feature</th>\n",
       "      <th>importance</th>\n",
       "    </tr>\n",
       "  </thead>\n",
       "  <tbody>\n",
       "    <tr>\n",
       "      <th>0</th>\n",
       "      <td>last_recent</td>\n",
       "      <td>0.281452</td>\n",
       "    </tr>\n",
       "    <tr>\n",
       "      <th>1</th>\n",
       "      <td>registered_days</td>\n",
       "      <td>0.090355</td>\n",
       "    </tr>\n",
       "    <tr>\n",
       "      <th>2</th>\n",
       "      <td>avg_gap_time_days</td>\n",
       "      <td>0.080672</td>\n",
       "    </tr>\n",
       "    <tr>\n",
       "      <th>3</th>\n",
       "      <td>Thumbs Down</td>\n",
       "      <td>0.056604</td>\n",
       "    </tr>\n",
       "    <tr>\n",
       "      <th>4</th>\n",
       "      <td>count(DISTINCT artist)</td>\n",
       "      <td>0.044727</td>\n",
       "    </tr>\n",
       "    <tr>\n",
       "      <th>5</th>\n",
       "      <td>Thumbs Up</td>\n",
       "      <td>0.040446</td>\n",
       "    </tr>\n",
       "    <tr>\n",
       "      <th>6</th>\n",
       "      <td>NextSong</td>\n",
       "      <td>0.038806</td>\n",
       "    </tr>\n",
       "    <tr>\n",
       "      <th>7</th>\n",
       "      <td>Downgrade</td>\n",
       "      <td>0.036481</td>\n",
       "    </tr>\n",
       "    <tr>\n",
       "      <th>8</th>\n",
       "      <td>count(DISTINCT sessionId)</td>\n",
       "      <td>0.031141</td>\n",
       "    </tr>\n",
       "    <tr>\n",
       "      <th>9</th>\n",
       "      <td>visit_count</td>\n",
       "      <td>0.028938</td>\n",
       "    </tr>\n",
       "    <tr>\n",
       "      <th>10</th>\n",
       "      <td>Roll Advert</td>\n",
       "      <td>0.028307</td>\n",
       "    </tr>\n",
       "    <tr>\n",
       "      <th>11</th>\n",
       "      <td>Add to Playlist</td>\n",
       "      <td>0.024286</td>\n",
       "    </tr>\n",
       "    <tr>\n",
       "      <th>12</th>\n",
       "      <td>avg_session_duration_mins</td>\n",
       "      <td>0.019367</td>\n",
       "    </tr>\n",
       "    <tr>\n",
       "      <th>13</th>\n",
       "      <td>Logout</td>\n",
       "      <td>0.019225</td>\n",
       "    </tr>\n",
       "    <tr>\n",
       "      <th>14</th>\n",
       "      <td>Home</td>\n",
       "      <td>0.018391</td>\n",
       "    </tr>\n",
       "    <tr>\n",
       "      <th>15</th>\n",
       "      <td>count(DISTINCT song)</td>\n",
       "      <td>0.017147</td>\n",
       "    </tr>\n",
       "    <tr>\n",
       "      <th>16</th>\n",
       "      <td>avg_daily_items</td>\n",
       "      <td>0.016997</td>\n",
       "    </tr>\n",
       "    <tr>\n",
       "      <th>17</th>\n",
       "      <td>Add Friend</td>\n",
       "      <td>0.016765</td>\n",
       "    </tr>\n",
       "    <tr>\n",
       "      <th>18</th>\n",
       "      <td>Settings</td>\n",
       "      <td>0.014395</td>\n",
       "    </tr>\n",
       "    <tr>\n",
       "      <th>19</th>\n",
       "      <td>Help</td>\n",
       "      <td>0.012654</td>\n",
       "    </tr>\n",
       "    <tr>\n",
       "      <th>20</th>\n",
       "      <td>Save Settings</td>\n",
       "      <td>0.012421</td>\n",
       "    </tr>\n",
       "    <tr>\n",
       "      <th>21</th>\n",
       "      <td>Upgrade</td>\n",
       "      <td>0.012353</td>\n",
       "    </tr>\n",
       "    <tr>\n",
       "      <th>22</th>\n",
       "      <td>About</td>\n",
       "      <td>0.011977</td>\n",
       "    </tr>\n",
       "    <tr>\n",
       "      <th>23</th>\n",
       "      <td>count</td>\n",
       "      <td>0.011706</td>\n",
       "    </tr>\n",
       "    <tr>\n",
       "      <th>24</th>\n",
       "      <td>Error</td>\n",
       "      <td>0.011225</td>\n",
       "    </tr>\n",
       "    <tr>\n",
       "      <th>25</th>\n",
       "      <td>total_length</td>\n",
       "      <td>0.009458</td>\n",
       "    </tr>\n",
       "    <tr>\n",
       "      <th>26</th>\n",
       "      <td>gender</td>\n",
       "      <td>0.006470</td>\n",
       "    </tr>\n",
       "    <tr>\n",
       "      <th>27</th>\n",
       "      <td>Submit Upgrade</td>\n",
       "      <td>0.003895</td>\n",
       "    </tr>\n",
       "    <tr>\n",
       "      <th>28</th>\n",
       "      <td>Submit Downgrade</td>\n",
       "      <td>0.002772</td>\n",
       "    </tr>\n",
       "    <tr>\n",
       "      <th>29</th>\n",
       "      <td>level</td>\n",
       "      <td>0.000566</td>\n",
       "    </tr>\n",
       "  </tbody>\n",
       "</table>\n",
       "</div>"
      ],
      "text/plain": [
       "                      feature  importance\n",
       "0                 last_recent    0.281452\n",
       "1             registered_days    0.090355\n",
       "2           avg_gap_time_days    0.080672\n",
       "3                 Thumbs Down    0.056604\n",
       "4      count(DISTINCT artist)    0.044727\n",
       "5                   Thumbs Up    0.040446\n",
       "6                    NextSong    0.038806\n",
       "7                   Downgrade    0.036481\n",
       "8   count(DISTINCT sessionId)    0.031141\n",
       "9                 visit_count    0.028938\n",
       "10                Roll Advert    0.028307\n",
       "11            Add to Playlist    0.024286\n",
       "12  avg_session_duration_mins    0.019367\n",
       "13                     Logout    0.019225\n",
       "14                       Home    0.018391\n",
       "15       count(DISTINCT song)    0.017147\n",
       "16            avg_daily_items    0.016997\n",
       "17                 Add Friend    0.016765\n",
       "18                   Settings    0.014395\n",
       "19                       Help    0.012654\n",
       "20              Save Settings    0.012421\n",
       "21                    Upgrade    0.012353\n",
       "22                      About    0.011977\n",
       "23                      count    0.011706\n",
       "24                      Error    0.011225\n",
       "25               total_length    0.009458\n",
       "26                     gender    0.006470\n",
       "27             Submit Upgrade    0.003895\n",
       "28           Submit Downgrade    0.002772\n",
       "29                      level    0.000566"
      ]
     },
     "execution_count": 61,
     "metadata": {},
     "output_type": "execute_result"
    }
   ],
   "source": [
    "rf_tuned_feature_imp = pd.DataFrame({\"feature\":feature_columns,\"importance\" : best_model.stages[2].featureImportances})\n",
    "rf_tuned_feature_imp.sort_values(by = \"importance\",ascending = False).reset_index(drop=True)"
   ]
  },
  {
   "cell_type": "code",
   "execution_count": 62,
   "metadata": {},
   "outputs": [
    {
     "name": "stdout",
     "output_type": "stream",
     "text": [
      "Best parameters : max depth:10, num Trees:70\n"
     ]
    }
   ],
   "source": [
    "print('Best parameters : max depth:{}, num Trees:{}'.\\\n",
    "          format(best_model.stages[2].getOrDefault('maxDepth'), best_model.stages[2].getNumTrees))"
   ]
  },
  {
   "cell_type": "code",
   "execution_count": 64,
   "metadata": {},
   "outputs": [],
   "source": [
    "pd_features = user_churn.drop(\"churn\").toPandas()"
   ]
  },
  {
   "cell_type": "code",
   "execution_count": 65,
   "metadata": {},
   "outputs": [
    {
     "name": "stderr",
     "output_type": "stream",
     "text": [
      "/opt/conda/lib/python3.6/site-packages/IPython/core/interactiveshell.py:2961: UserWarning: To output multiple subplots, the figure containing the passed axes is being cleared\n",
      "  exec(code_obj, self.user_global_ns, self.user_ns)\n"
     ]
    },
    {
     "data": {
      "image/png": "[encoded data removed]",
      "text/plain": [
       "<matplotlib.figure.Figure at 0x7fd5f047b160>"
      ]
     },
     "metadata": {
      "needs_background": "light"
     },
     "output_type": "display_data"
    }
   ],
   "source": [
    "fig = plt.figure(figsize=(30,25))\n",
    "ax = fig.gca()\n",
    "h = pd_features.hist(ax=ax)"
   ]
  },
  {
   "cell_type": "markdown",
   "metadata": {},
   "source": [
    "# 6.0 Final Steps\n",
    "Clean up your code, adding comments and renaming variables to make the code easier to read and maintain. Refer to the Spark Project Overview page and Data Scientist Capstone Project Rubric to make sure you are including all components of the capstone project and meet all expectations. Remember, this includes thorough documentation in a README file in a Github repository, as well as a web app or blog post."
   ]
  }
 ],
 "metadata": {
  "kernelspec": {
   "display_name": "Python 3",
   "language": "python",
   "name": "python3"
  }
 },
 "nbformat": 4,
 "nbformat_minor": 2
}
