{
 "cells": [
  {
   "cell_type": "markdown",
   "metadata": {},
   "source": [
    "# Sparkify Project Workspace\n",
    "This workspace contains a tiny subset (128MB) of the full dataset available (12GB). Feel free to use this workspace to build your project, or to explore a smaller subset with Spark before deploying your cluster on the cloud.\n",
    "You can follow the steps below to guide your data analysis and model building portion of this project."
   ]
  },
  {
   "cell_type": "markdown",
   "metadata": {},
   "source": [
    "## 1.0 Import libraries and start the session."
   ]
  },
  {
   "cell_type": "code",
   "execution_count": 50,
   "metadata": {},
   "outputs": [],
   "source": [
    "#import libraries\n",
    "from pyspark.sql import SparkSession\n",
    "from pyspark.sql.functions import avg, col, concat, desc,lit, min, max, split, udf,count\\\n",
    ",when,isnan,regexp_replace,countDistinct,month,from_unixtime,to_timestamp,lead,datediff,mean,to_date\n",
    "from pyspark.sql.functions import sum as Fsum\n",
    "from pyspark.sql.types import *\n",
    "from pyspark.sql.window import Window\n",
    "\n",
    "%matplotlib inline\n",
    "import matplotlib.pyplot as plt\n",
    "import pandas as pd\n",
    "import numpy as np\n",
    "import seaborn as sns\n",
    "import re\n",
    "\n",
    "from pyspark.ml import Pipeline\n",
    "from pyspark.ml.classification import LogisticRegression,RandomForestClassifier, GBTClassifier\n",
    "from pyspark.ml.evaluation import BinaryClassificationEvaluator,MulticlassClassificationEvaluator\n",
    "from pyspark.ml.feature import MinMaxScaler, StringIndexer, VectorAssembler\n",
    "from pyspark.ml.tuning import CrossValidator, ParamGridBuilder\n"
   ]
  },
  {
   "cell_type": "code",
   "execution_count": 2,
   "metadata": {},
   "outputs": [],
   "source": [
    "# create a Spark session\n",
    "spark = SparkSession.builder \\\n",
    "    .master(\"local\") \\\n",
    "    .appName(\"Churn Predictor\") \\\n",
    "    .getOrCreate()"
   ]
  },
  {
   "cell_type": "markdown",
   "metadata": {},
   "source": [
    "# 2.0 Load and Clean Dataset\n",
    "In this workspace, the mini-dataset file is `mini_sparkify_event_data.json`. Load and clean the dataset, checking for invalid or missing data - for example, records without userids or sessionids. "
   ]
  },
  {
   "cell_type": "code",
   "execution_count": 3,
   "metadata": {},
   "outputs": [
    {
     "data": {
      "text/plain": [
       "DataFrame[artist: string, auth: string, firstName: string, gender: string, itemInSession: bigint, lastName: string, length: double, level: string, location: string, method: string, page: string, registration: bigint, sessionId: bigint, song: string, status: bigint, ts: bigint, userAgent: string, userId: string]"
      ]
     },
     "execution_count": 3,
     "metadata": {},
     "output_type": "execute_result"
    }
   ],
   "source": [
    " #load spark data\n",
    "df = spark.read.json('mini_sparkify_event_data.json')\n",
    "df.persist()"
   ]
  },
  {
   "cell_type": "markdown",
   "metadata": {},
   "source": [
    "### 2.1 Removing missing/incorrect values"
   ]
  },
  {
   "cell_type": "code",
   "execution_count": 4,
   "metadata": {},
   "outputs": [],
   "source": [
    "#remove user ids which are empty strings\n",
    "df = df.filter(df[\"userId\"] != \"\")"
   ]
  },
  {
   "cell_type": "markdown",
   "metadata": {},
   "source": [
    "### 2.2 Timestamp formatting"
   ]
  },
  {
   "cell_type": "code",
   "execution_count": 5,
   "metadata": {},
   "outputs": [],
   "source": [
    "# change the original timestamp in the dataset to the common format\n",
    "get_time = udf(lambda x: pd.Timestamp(x / 1000.0,unit='s').strftime(\"%Y-%m-%d %H:%M:%S\"))\n",
    "df = df.withColumn(\"time\", get_time(df.ts)).withColumn('registration_time',get_time(df.registration))\n",
    "df = df.withColumn('month', month(col('time')))\n",
    "df = df.withColumn('date', from_unixtime(col('ts')/1000).cast(DateType()))"
   ]
  },
  {
   "cell_type": "markdown",
   "metadata": {},
   "source": [
    "#### The data is of rougly 2 months i.e from 1st October to 3rd December 2018. "
   ]
  },
  {
   "cell_type": "markdown",
   "metadata": {},
   "source": [
    "# 3.0 Exploratory Data Analysis\n",
    "When you're working with the full dataset, perform EDA by loading a small subset of the data and doing basic manipulations within Spark. In this workspace, you are already provided a small subset of data you can explore.\n",
    "\n",
    "### 3.1 Define Churn\n",
    "\n",
    "Once you've done some preliminary analysis, create a column `Churn` to use as the label for your model. I suggest using the `Cancellation Confirmation` events to define your churn, which happen for both paid and free users. As a bonus task, you can also look into the `Downgrade` events.\n",
    "\n",
    "### 3.2 Explore Data\n",
    "Once you've defined churn, perform some exploratory data analysis to observe the behavior for users who stayed vs users who churned. You can start by exploring aggregates on these two groups of users, observing how much of a specific action they experienced per a certain time unit or number of songs played."
   ]
  },
  {
   "cell_type": "markdown",
   "metadata": {},
   "source": [
    "### 3.1.1 Churn means when a user cancels their association with the service. \n",
    "Using page =='Cancellation Confirmation' & auth =='Cancelled' I will label the users are churned (1) or not (0)."
   ]
  },
  {
   "cell_type": "markdown",
   "metadata": {},
   "source": [
    "#### This shows that all user ids which are churned have page =='Cancellation Confirmation' & auth =='Cancelled' i.e there is no userId with only one factor."
   ]
  },
  {
   "cell_type": "code",
   "execution_count": 6,
   "metadata": {},
   "outputs": [],
   "source": [
    "#label data\n",
    "df = df.join(df.withColumn('churn',when(col('page')=='Cancellation Confirmation', 1).otherwise(0)).\\\n",
    "                            groupBy('userId').agg(Fsum('churn').alias('churn')), on='userId')"
   ]
  },
  {
   "cell_type": "markdown",
   "metadata": {},
   "source": [
    "### 3.1.2 Analysing characteristics of churned users\n",
    "#### 3.1.2.1 EDA on existing & new features (in Spark-EDA.ipynb)"
   ]
  },
  {
   "cell_type": "markdown",
   "metadata": {},
   "source": [
    "# 4.0 Feature Engineering\n",
    "Once you've familiarized yourself with the data, build out the features you find promising to train your model on. To work with the full dataset, you can follow the following steps.\n",
    "- Write a script to extract the necessary features from the smaller subset of data\n",
    "- Ensure that your script is scalable, using the best practices discussed in Lesson 3\n",
    "- Try your script on the full data set, debugging your script if necessary\n"
   ]
  },
  {
   "cell_type": "markdown",
   "metadata": {},
   "source": [
    "### 4.1 \n",
    "In this section, a few features engineered in EDA are used. These are -\n",
    "1. Artist count\n",
    "2. Songs count\n",
    "3. No. of sessions\n",
    "4. Total length\n",
    "5. Visit count\n",
    "\n",
    "A couple of features are tranformed in appropriate form -\n",
    "6. Gender\n",
    "7. Level\n",
    "\n",
    "New features are also engineered. These are -\n",
    "8. Page related\n",
    "9. Avg. time of sessions\n",
    "10. Gap between sessions\n",
    "11. Item in session aggregate"
   ]
  },
  {
   "cell_type": "code",
   "execution_count": 7,
   "metadata": {},
   "outputs": [],
   "source": [
    "#This dataframe contains userId and churn columns only. Engineered features will be joined here.\n",
    "user_churn = df.groupBy(\"userId\").max(\"churn\").withColumnRenamed(\"max(churn)\", \"churn\").select([\"userId\", \"churn\"])"
   ]
  },
  {
   "cell_type": "code",
   "execution_count": 8,
   "metadata": {
    "scrolled": true
   },
   "outputs": [],
   "source": [
    "#Count number of unique artists a user listens to\n",
    "df_artist = df.groupby(\"userId\") \\\n",
    "                                    .agg(countDistinct(\"artist\")) \\\n",
    "                                    .withColumnRenamed(\"count(artist)\", \"artist_count\")\n",
    "user_churn = user_churn.join(df_artist,[\"userId\"])"
   ]
  },
  {
   "cell_type": "code",
   "execution_count": 9,
   "metadata": {},
   "outputs": [],
   "source": [
    "#Calculate total number of times a userId is there in df\n",
    "df_visits = df.groupby(\"userId\") \\\n",
    "                                      .count() \\\n",
    "                                      .withColumnRenamed(\"count\", \"visit_count\")\n",
    "user_churn = user_churn.join(df_visits,[\"userId\"])"
   ]
  },
  {
   "cell_type": "code",
   "execution_count": 10,
   "metadata": {},
   "outputs": [],
   "source": [
    "#Calculate numer of unique songs a user listens to \n",
    "df_count_songs = df.groupby(\"userId\")\\\n",
    "                                    .agg(countDistinct(\"song\"))\\\n",
    "                                    .withColumnRenamed(\"count(song)\", \"song_count\")\n",
    "user_churn = user_churn.join(df_count_songs,[\"userId\"])"
   ]
  },
  {
   "cell_type": "code",
   "execution_count": 11,
   "metadata": {},
   "outputs": [
    {
     "name": "stdout",
     "output_type": "stream",
     "text": [
      "+------+-----+----------------------+-----------+--------------------+------------------+\n",
      "|userId|churn|count(DISTINCT artist)|visit_count|count(DISTINCT song)|      total_length|\n",
      "+------+-----+----------------------+-----------+--------------------+------------------+\n",
      "|100010|    0|                   252|        381|                 269| 66940.89735000003|\n",
      "|200002|    0|                   339|        474|                 378| 94008.87593999993|\n",
      "|   125|    1|                     8|         11|                   8|2089.1131000000005|\n",
      "|   124|    0|                  2232|       4825|                3339|1012312.0927899999|\n",
      "|    51|    1|                  1385|       2464|                1854| 523275.8428000004|\n",
      "+------+-----+----------------------+-----------+--------------------+------------------+\n",
      "only showing top 5 rows\n",
      "\n"
     ]
    }
   ],
   "source": [
    "#Calculate total length associated with each user\n",
    "df_length = df.groupby(\"userId\")\\\n",
    "                            .agg({\"length\" : \"sum\"})\\\n",
    "                               .withColumnRenamed(\"sum(length)\",\"total_length\")\n",
    "user_churn = user_churn.join(df_length,[\"userId\"])\n",
    "user_churn.show(n=5)"
   ]
  },
  {
   "cell_type": "code",
   "execution_count": 12,
   "metadata": {},
   "outputs": [
    {
     "name": "stdout",
     "output_type": "stream",
     "text": [
      "+------+-----+----------------------+-----------+--------------------+------------------+---------------+-----------+\n",
      "|userId|churn|count(DISTINCT artist)|visit_count|count(DISTINCT song)|      total_length|registered_days|last_recent|\n",
      "+------+-----+----------------------+-----------+--------------------+------------------+---------------+-----------+\n",
      "|100010|    0|                   252|        381|                 269| 66940.89735000003|             44|         12|\n",
      "|200002|    0|                   339|        474|                 378| 94008.87593999993|             45|         18|\n",
      "|   125|    1|                     8|         11|                   8|2089.1131000000005|              0|         52|\n",
      "|   124|    0|                  2232|       4825|                3339|1012312.0927899999|             60|          3|\n",
      "|    51|    1|                  1385|       2464|                1854| 523275.8428000004|             16|         47|\n",
      "|     7|    0|                   142|        201|                 148| 38034.08710000002|             51|         10|\n",
      "|    15|    0|                  1302|       2278|                1707|477307.60581000015|             55|          8|\n",
      "|    54|    1|                  1744|       3437|                2414| 711344.9195400011|             42|         21|\n",
      "|   155|    0|                   643|       1002|                 759|       198779.2919|             26|          5|\n",
      "|100014|    1|                   233|        310|                 248| 67703.47208000004|             41|         13|\n",
      "|   132|    0|                  1299|       2304|                1718| 483118.9038399997|             50|         12|\n",
      "|   154|    0|                    78|        118|                  83|20660.023910000007|             25|          6|\n",
      "|   101|    1|                  1241|       2149|                1608| 447464.0146699989|             15|         48|\n",
      "|    11|    0|                   534|        848|                 616|159669.96303999983|             53|          6|\n",
      "|   138|    0|                  1332|       2469|                1791| 512449.8827599989|             56|          3|\n",
      "|300017|    0|                  2070|       4428|                3013| 897406.9802100015|             59|          4|\n",
      "|100021|    1|                   207|        319|                 226| 57633.17563999999|             45|          8|\n",
      "|    29|    1|                  1804|       3603|                2562| 754517.5625700009|             44|         19|\n",
      "|    69|    0|                   865|       1342|                1036| 286064.0256399999|             51|         10|\n",
      "|   112|    0|                   195|        292|                 211| 53062.74659000002|             57|          3|\n",
      "+------+-----+----------------------+-----------+--------------------+------------------+---------------+-----------+\n",
      "only showing top 20 rows\n",
      "\n"
     ]
    }
   ],
   "source": [
    "#time related features\n",
    "\n",
    "#1. Registered days i.e time between day of registration and now\n",
    "user_time=df.groupBy('userId','registration_time').agg(min('time'),max('time'))\n",
    "user_time=user_time.select('userId','registration_time',\n",
    "                          to_timestamp('min(time)', 'yyyy-MM-dd HH:mm:ss').alias('first_time'),\n",
    "                          to_timestamp('max(time)', 'yyyy-MM-dd HH:mm:ss').alias('last_time'))\n",
    "#2.Days between last day for a user and last day in df\n",
    "user_time=user_time.withColumn('registered_days',datediff('last_time','first_time')).withColumn(\n",
    "    'last_recent',datediff(to_date(lit(\"2018-12-03\")),'last_time')) #(2018-12-03) is the last date in the dataframe\n",
    "user_time=user_time.select('userId','registered_days','last_recent')\n",
    "\n",
    "user_churn=user_churn.join(user_time, ['userId'])\n",
    "user_churn.show()"
   ]
  },
  {
   "cell_type": "code",
   "execution_count": 13,
   "metadata": {},
   "outputs": [],
   "source": [
    "#turn gender into 0(M) and 1(F)\n",
    "flag_gender = udf(lambda x: 1 if x == \"F\" else 0, IntegerType())\n",
    "user_gender = df.withColumn(\"gender\", flag_gender(\"gender\"))\n",
    "user_gender = user_gender.groupby('userId').agg({\"gender\": \"max\"}).withColumnRenamed(\"max(gender)\", \"gender\")\n",
    "user_churn=user_churn.join(user_gender, ['userId'])\n",
    "#user_gender.show(5)"
   ]
  },
  {
   "cell_type": "code",
   "execution_count": 14,
   "metadata": {
    "scrolled": true
   },
   "outputs": [],
   "source": [
    "#turn level into 0 and 1(paid)\n",
    "flag_level = udf(lambda x: 1 if x == \"paid\" else 0, IntegerType())\n",
    "user_level = df.withColumn(\"level\", flag_level(\"level\"))\n",
    "user_level = user_level.groupby('userId').agg({\"level\": \"max\"}).withColumnRenamed(\"max(level)\", \"level\")\n",
    "user_churn=user_churn.join(user_level, ['userId'])\n",
    "#user_level.show(5)"
   ]
  },
  {
   "cell_type": "code",
   "execution_count": 15,
   "metadata": {},
   "outputs": [
    {
     "name": "stdout",
     "output_type": "stream",
     "text": [
      "+------+-----+----------------------+-----------+--------------------+------------------+---------------+-----------+------+-----+------------------+\n",
      "|userId|churn|count(DISTINCT artist)|visit_count|count(DISTINCT song)|      total_length|registered_days|last_recent|gender|level|   avg_daily_items|\n",
      "+------+-----+----------------------+-----------+--------------------+------------------+---------------+-----------+------+-----+------------------+\n",
      "|100010|    0|                   252|        381|                 269| 66940.89735000003|             44|         12|     1|    0| 54.42857142857143|\n",
      "|200002|    0|                   339|        474|                 378| 94008.87593999993|             45|         18|     0|    1| 79.71428571428571|\n",
      "|   125|    1|                     8|         11|                   8|2089.1131000000005|              0|         52|     0|    0|              10.0|\n",
      "|   124|    0|                  2232|       4825|                3339|1012312.0927899999|             60|          3|     1|    1|198.36363636363637|\n",
      "|    51|    1|                  1385|       2464|                1854| 523275.8428000004|             16|         47|     0|    1| 252.6153846153846|\n",
      "|     7|    0|                   142|        201|                 148| 38034.08710000002|             51|         10|     0|    0|            27.625|\n",
      "|    15|    0|                  1302|       2278|                1707|477307.60581000015|             55|          8|     0|    1|153.21052631578948|\n",
      "|    54|    1|                  1744|       3437|                2414| 711344.9195400011|             42|         21|     1|    1|146.25806451612902|\n",
      "|   155|    0|                   643|       1002|                 759|       198779.2919|             26|          5|     1|    1|             149.0|\n",
      "|100014|    1|                   233|        310|                 248| 67703.47208000004|             41|         13|     0|    1|51.833333333333336|\n",
      "|   132|    0|                  1299|       2304|                1718| 483118.9038399997|             50|         12|     1|    1|161.47619047619048|\n",
      "|   154|    0|                    78|        118|                  83|20660.023910000007|             25|          6|     1|    0|41.333333333333336|\n",
      "|   101|    1|                  1241|       2149|                1608| 447464.0146699989|             15|         48|     0|    1|263.53846153846155|\n",
      "|    11|    0|                   534|        848|                 616|159669.96303999983|             53|          6|     1|    1|           55.4375|\n",
      "|   138|    0|                  1332|       2469|                1791| 512449.8827599989|             56|          3|     0|    1|173.47058823529412|\n",
      "|300017|    0|                  2070|       4428|                3013| 897406.9802100015|             59|          4|     1|    1|              87.6|\n",
      "|100021|    1|                   207|        319|                 226| 57633.17563999999|             45|          8|     0|    0|              66.4|\n",
      "|    29|    1|                  1804|       3603|                2562| 754517.5625700009|             44|         19|     0|    1|167.20689655172413|\n",
      "|    69|    0|                   865|       1342|                1036| 286064.0256399999|             51|         10|     1|    1|134.16666666666666|\n",
      "|   112|    0|                   195|        292|                 211| 53062.74659000002|             57|          3|     0|    0|            33.125|\n",
      "+------+-----+----------------------+-----------+--------------------+------------------+---------------+-----------+------+-----+------------------+\n",
      "only showing top 20 rows\n",
      "\n"
     ]
    }
   ],
   "source": [
    "#Calculate on avg. the number of items a user listens to everyday\n",
    "daily_item_df = df.groupby('userId','date').agg(max('itemInSession')).\\\n",
    "                    groupBy('userId').avg('max(itemInSession)').\\\n",
    "                    withColumnRenamed('avg(max(itemInSession))', 'avg_daily_items')\n",
    "user_churn = user_churn.join(daily_item_df,['userId'])\n",
    "user_churn.show()"
   ]
  },
  {
   "cell_type": "code",
   "execution_count": 16,
   "metadata": {},
   "outputs": [],
   "source": [
    "# page view related feature: calculate number of visited pages, proportion of different types of pages\n",
    "df_page_view=df.groupBy('userId').pivot('page').count()\n",
    "df_page_view=df_page_view.na.fill(0).drop('Cancellation Confirmation','Cancel')\n",
    "\n",
    "df_page_totalview=df.filter(\"page != 'Cancellation Confirmation' and page != 'Cancel'\" ).groupBy('userId').count()\n",
    "\n",
    "# change actual number to percentage \n",
    "df_page_view=df_page_view.join(df_page_totalview,['userId'])\n",
    "columns=df_page_view.columns\n",
    "columns=[column for column in columns if column not in ('userId', 'count')]\n",
    "\n",
    "for colName in columns:\n",
    "    df_page_view = df_page_view.withColumn(colName, col(colName)/col('count'))\n",
    "\n",
    "user_churn = user_churn.join(df_page_view,[\"userId\"])\n",
    "    "
   ]
  },
  {
   "cell_type": "code",
   "execution_count": 17,
   "metadata": {},
   "outputs": [
    {
     "name": "stdout",
     "output_type": "stream",
     "text": [
      "+------+-----+----------------------+-----------+--------------------+------------------+---------------+-----------+------+-----+------------------+--------------------+--------------------+--------------------+--------------------+--------------------+--------------------+--------------------+--------------------+------------------+--------------------+--------------------+--------------------+--------------------+--------------------+--------------------+--------------------+--------------------+-----+-------------------------+------------------+-------------------------+\n",
      "|userId|churn|count(DISTINCT artist)|visit_count|count(DISTINCT song)|      total_length|registered_days|last_recent|gender|level|   avg_daily_items|               About|          Add Friend|     Add to Playlist|           Downgrade|               Error|                Help|                Home|              Logout|          NextSong|         Roll Advert|       Save Settings|            Settings|    Submit Downgrade|      Submit Upgrade|         Thumbs Down|           Thumbs Up|             Upgrade|count|avg_session_duration_mins| avg_gap_time_days|count(DISTINCT sessionId)|\n",
      "+------+-----+----------------------+-----------+--------------------+------------------+---------------+-----------+------+-----+------------------+--------------------+--------------------+--------------------+--------------------+--------------------+--------------------+--------------------+--------------------+------------------+--------------------+--------------------+--------------------+--------------------+--------------------+--------------------+--------------------+--------------------+-----+-------------------------+------------------+-------------------------+\n",
      "|100010|    0|                   252|        381|                 269| 66940.89735000003|             44|         12|     1|    0| 54.42857142857143|0.002624671916010...|0.010498687664041995| 0.01837270341207349|                 0.0|                 0.0|0.005249343832020997|0.028871391076115485|0.013123359580052493|0.7217847769028871| 0.13648293963254593|                 0.0|                 0.0|                 0.0|                 0.0|0.013123359580052493| 0.04461942257217848|0.005249343832020997|  381|       154.48333333333332| 7.333333333333333|                        7|\n",
      "|200002|    0|                   339|        474|                 378| 94008.87593999993|             45|         18|     0|    1| 79.71428571428571|0.006329113924050633|0.008438818565400843|0.016877637130801686|0.010548523206751054|                 0.0|0.004219409282700422| 0.04219409282700422|0.010548523206751054|0.8164556962025317|0.014767932489451477|                 0.0|0.006329113924050633|                 0.0|0.002109704641350211|0.012658227848101266| 0.04430379746835443|0.004219409282700422|  474|                    266.4|               9.0|                        6|\n",
      "|   125|    1|                     8|         11|                   8|2089.1131000000005|              0|         52|     0|    0|              10.0|                 0.0|                 0.0|                 0.0|                 0.0|                 0.0|                 0.0|                 0.0|                 0.0|0.8888888888888888|  0.1111111111111111|                 0.0|                 0.0|                 0.0|                 0.0|                 0.0|                 0.0|                 0.0|    9|       29.566666666666666|               0.0|                        1|\n",
      "|   124|    0|                  2232|       4825|                3339|1012312.0927899999|             60|          3|     1|    1|198.36363636363637|0.001450777202072539| 0.01533678756476684|  0.0244559585492228| 0.00849740932642487|0.001243523316062176|0.004766839378238342|0.036476683937823835|  0.0122279792746114|0.8453886010362694|8.290155440414508E-4|0.001243523316062176|0.004145077720207254|                 0.0|                 0.0| 0.00849740932642487| 0.03544041450777202|                 0.0| 4825|        578.9942528735631| 2.142857142857143|                       29|\n",
      "|    51|    1|                  1385|       2464|                1854| 523275.8428000004|             16|         47|     0|    1| 252.6153846153846|8.123476848090983E-4|0.011372867587327376|0.021121039805036556| 0.00934199837530463|4.061738424045491...| 0.00487408610885459|0.030463038180341188| 0.00974817221770918|0.8574329813160032|                 0.0|4.061738424045491...| 0.00487408610885459|                 0.0|                 0.0|0.008529650690495532| 0.04061738424045491|                 0.0| 2462|        872.3566666666668|1.6666666666666667|                       10|\n",
      "|     7|    0|                   142|        201|                 148| 38034.08710000002|             51|         10|     0|    0|            27.625|                 0.0|0.004975124378109453|0.024875621890547265|                 0.0|0.004975124378109453|0.004975124378109453| 0.04975124378109453|0.014925373134328358| 0.746268656716418| 0.07960199004975124|0.004975124378109453|0.014925373134328358|                 0.0|                 0.0|0.004975124378109453| 0.03482587064676617|0.009950248756218905|  201|        87.64047619047619|               8.5|                        7|\n",
      "|    15|    0|                  1302|       2278|                1707|477307.60581000015|             55|          8|     0|    1|153.21052631578948| 8.77963125548727E-4|0.013608428446005268|0.025899912203687446|0.012291483757682178| 8.77963125548727E-4|0.003511852502194908|0.040825285338015806|0.011852502194907815|0.8402107111501317|4.389815627743635E-4| 8.77963125548727E-4|0.007023705004389816|                 0.0|                 0.0|0.006145741878841089| 0.03555750658472344|                 0.0| 2278|        528.2833333333333| 3.857142857142857|                       15|\n",
      "|    54|    1|                  1744|       3437|                2414| 711344.9195400011|             42|         21|     1|    1|146.25806451612902|0.001455604075691412| 0.00960698689956332| 0.02096069868995633|0.011353711790393014|2.911208151382824E-4|0.004949053857350801| 0.03755458515283843|0.010480349344978166|0.8270742358078602|0.013682678311499273|8.733624454148472E-4|0.004949053857350801|2.911208151382824E-4|2.911208151382824E-4|0.008442503639010189| 0.04745269286754003|2.911208151382824E-4| 3435|       322.28963963963963|1.1666666666666667|                       37|\n",
      "|   155|    0|                   643|       1002|                 759|       198779.2919|             26|          5|     1|    1|             149.0|0.001996007984031936|0.010978043912175649|0.023952095808383235|0.011976047904191617|0.002994011976047...|0.008982035928143712|0.029940119760479042|0.013972055888223553|0.8183632734530938|0.007984031936127744|                 0.0| 0.00499001996007984|                 0.0| 9.98003992015968E-4|0.002994011976047...| 0.05788423153692615|0.001996007984031936| 1002|        548.5722222222222|               5.0|                        6|\n",
      "|100014|    1|                   233|        310|                 248| 67703.47208000004|             41|         13|     0|    1|51.833333333333336|                 0.0| 0.01948051948051948|0.022727272727272728| 0.00974025974025974|                 0.0|0.006493506493506494|0.022727272727272728| 0.00974025974025974|0.8344155844155844|0.006493506493506494|                 0.0|0.003246753246753247|                 0.0|                 0.0| 0.00974025974025974| 0.05519480519480519|                 0.0|  308|        184.8138888888889|               8.2|                        6|\n",
      "|   132|    0|                  1299|       2304|                1718| 483118.9038399997|             50|         12|     1|    1|161.47619047619048|0.001736111111111111|0.017795138888888888|0.016493055555555556|0.008246527777777778|0.001302083333333...|0.006944444444444444| 0.03602430555555555|0.014756944444444444|0.8368055555555556|8.680555555555555E-4|0.001736111111111111|0.007378472222222222|                 0.0|4.340277777777777...|0.007378472222222222|0.041666666666666664|4.340277777777777...| 2304|        498.9510416666667|3.3333333333333335|                       16|\n",
      "|   154|    0|                    78|        118|                  83|20660.023910000007|             25|          6|     1|    0|41.333333333333336|                 0.0|0.025423728813559324| 0.00847457627118644|                 0.0|                 0.0| 0.00847457627118644| 0.05084745762711865| 0.01694915254237288| 0.711864406779661|  0.0847457627118644|                 0.0|                 0.0|                 0.0|                 0.0|                 0.0| 0.09322033898305085|                 0.0|  118|       110.68333333333332|              12.5|                        3|\n",
      "|   101|    1|                  1241|       2149|                1608| 447464.0146699989|             15|         48|     0|    1|263.53846153846155|9.315323707498836E-4| 0.01350721937587331| 0.02841173730787145|0.010246856078248719|0.001397298556124...|0.005589194224499...|0.034466697717745694|0.011178388448998603|0.8369818351187703|0.003726129482999...|9.315323707498836E-4|0.004191895668374476|                 0.0|4.657661853749418E-4|0.007452258965999069|0.040055891942244994|4.657661853749418E-4| 2147|                   817.58|1.6666666666666667|                       10|\n",
      "|    11|    0|                   534|        848|                 616|159669.96303999983|             53|          6|     1|    1|           55.4375|0.008254716981132075|0.007075471698113208| 0.02358490566037736| 0.00589622641509434|0.001179245283018...|0.003537735849056604| 0.04363207547169811| 0.01650943396226415|0.7629716981132075|0.045990566037735846|0.002358490566037...|0.007075471698113208|0.001179245283018...|0.002358490566037...| 0.01061320754716981| 0.04716981132075472| 0.01061320754716981|  848|       161.37708333333333| 3.533333333333333|                       16|\n",
      "|   138|    0|                  1332|       2469|                1791| 512449.8827599989|             56|          3|     0|    1|173.47058823529412|0.003240178209801...| 0.01660591332523289| 0.02713649250708789| 0.00850546780072904|4.050222762251924E-4|0.005265289590927501| 0.02875658161198866|0.007290400972053463|0.8383961117861483| 0.00688537869582827|0.001620089104900...| 0.00688537869582827|                 0.0|4.050222762251924E-4|0.009720534629404616| 0.03847711624139328|4.050222762251924E-4| 2469|        564.2266666666667|3.9285714285714284|                       15|\n",
      "|300017|    0|                  2070|       4428|                3013| 897406.9802100015|             59|          4|     1|    1|              87.6|6.775067750677507E-4|0.014227642276422764|0.025519421860885277|0.005645889792231256|0.001129177958446251|0.006097560975609756|0.034101174345076785|0.009259259259259259|0.8202348690153568|0.002484191508581...|6.775067750677507E-4|0.005194218608852755|                 0.0|                 0.0|0.006323396567299007| 0.06842818428184282|                 0.0| 4428|       233.32407407407408|0.9516129032258065|                       63|\n",
      "|100021|    1|                   207|        319|                 226| 57633.17563999999|             45|          8|     0|    0|              66.4|0.003154574132492...|0.022082018927444796|0.022082018927444796|                 0.0|0.006309148264984227|                 0.0|  0.0473186119873817|0.022082018927444796|0.7255520504731862|  0.0946372239747634|                 0.0|                 0.0|                 0.0|                 0.0|0.015772870662460567| 0.03470031545741325|0.006309148264984227|  317|       215.22666666666663|             11.25|                        5|\n",
      "|    29|    1|                  1804|       3603|                2562| 754517.5625700009|             44|         19|     0|    1|167.20689655172413|5.554012774229381E-4|0.013051930019439044|0.024715356845320745|0.004998611496806442|                 0.0|0.007775617883921133| 0.03360177728408775|0.011385726187170231|0.8408775340183282|0.006109414051652319|0.001110802554845...|0.005276312135517912|                 0.0|2.777006387114690...|0.006109414051652319| 0.04276589836156623|0.001388503193557...| 3601|       365.75686274509803|1.3333333333333333|                       34|\n",
      "|    69|    0|                   865|       1342|                1036| 286064.0256399999|             51|         10|     1|    1|134.16666666666666|0.002235469448584...| 0.00894187779433681| 0.02459016393442623|0.006706408345752...|0.002980625931445...|0.005216095380029807| 0.03651266766020864|0.007451564828614009|0.8383010432190761|0.002235469448584...|7.451564828614009E-4|0.002235469448584...|                 0.0|7.451564828614009E-4|0.006706408345752...| 0.05365126676602087|7.451564828614009E-4| 1342|        526.6851851851852|             6.375|                        9|\n",
      "|   112|    0|                   195|        292|                 211| 53062.74659000002|             57|          3|     0|    0|            33.125|0.003424657534246575|0.023972602739726026|0.023972602739726026|                 0.0|                 0.0|0.003424657534246575|  0.0547945205479452|0.010273972602739725|0.7363013698630136| 0.07191780821917808|0.010273972602739725|  0.0136986301369863|                 0.0|                 0.0|0.010273972602739725|0.030821917808219176| 0.00684931506849315|  292|        84.45166666666667| 6.333333333333333|                       10|\n",
      "+------+-----+----------------------+-----------+--------------------+------------------+---------------+-----------+------+-----+------------------+--------------------+--------------------+--------------------+--------------------+--------------------+--------------------+--------------------+--------------------+------------------+--------------------+--------------------+--------------------+--------------------+--------------------+--------------------+--------------------+--------------------+-----+-------------------------+------------------+-------------------------+\n",
      "only showing top 20 rows\n",
      "\n"
     ]
    }
   ],
   "source": [
    "# session related features\n",
    "\n",
    "# calculate number of sessions of each user\n",
    "user_session = df.groupby(\"userId\").agg(countDistinct('sessionId'))\n",
    "\n",
    "\n",
    "# calculate time of each session\n",
    "user_session_time=df.groupBy('userId','sessionId').agg(min('time'),max('time')).orderBy('userId','sessionId')\n",
    "user_session_time=user_session_time.select('userId','sessionId',\n",
    "                          to_timestamp('min(time)', 'yyyy-MM-dd HH:mm:ss').alias('first_time'),\n",
    "                          to_timestamp('max(time)', 'yyyy-MM-dd HH:mm:ss').alias('last_time'))\n",
    "\n",
    "user_session_time=user_session_time.withColumn('session_duration_mins',(col(\"last_time\").cast(\"long\") - col(\"first_time\")\\\n",
    "                                                                            .cast(\"long\"))/60)\n",
    "\n",
    "# calculate gap time of each pair of close sessions \n",
    "\n",
    "user_session_time=user_session_time.withColumn('next_session_start_time',lead(user_session_time['first_time'])\n",
    "                                 .over(Window.partitionBy(\"userId\").orderBy('sessionId')))    \n",
    "\n",
    "user_session_time=user_session_time.withColumn('gap_time',datediff('next_session_start_time','first_time'))\n",
    "\n",
    "# aggregate these two features at user level\n",
    "user_session_time=user_session_time.groupBy('userId').agg(mean('session_duration_mins').alias('avg_session_duration_mins'),\n",
    "                                           mean('gap_time').alias('avg_gap_time_days')).fillna(0)\n",
    "\n",
    "\n",
    "#merge with user dataframe\n",
    "df_session=user_session_time.join(user_session,[\"userId\"])\n",
    "user_churn = user_churn.join(df_session,[\"userId\"])\n",
    "user_churn.show()"
   ]
  },
  {
   "cell_type": "code",
   "execution_count": 18,
   "metadata": {
    "scrolled": false
   },
   "outputs": [],
   "source": [
    "#user_churn.write.save(\"final_data2.csv\",format = \"csv\",header = True,)"
   ]
  },
  {
   "cell_type": "code",
   "execution_count": 19,
   "metadata": {
    "scrolled": true
   },
   "outputs": [],
   "source": [
    "#user_churn.select([count(when(isnan(c) | col(c).isNull(), c)).alias(c) for c in user_churn.columns]).collect()\n",
    "#uncomment this to check if the user_churn dataframe has missing values"
   ]
  },
  {
   "cell_type": "markdown",
   "metadata": {},
   "source": [
    "# 5.0 Modeling\n",
    "Split the full dataset into train, test, and validation sets. Test out several of the machine learning methods you learned. Evaluate the accuracy of the various models, tuning parameters as necessary. Determine your winning model based on test accuracy and report results on the validation set. Since the churned users are a fairly small subset, I suggest using F1 score as the metric to optimize."
   ]
  },
  {
   "cell_type": "code",
   "execution_count": 20,
   "metadata": {},
   "outputs": [],
   "source": [
    "user_churn = user_churn.drop(\"userId\") #we do not need userId for modelling\n",
    "feature_columns = [col for col in user_churn.columns if col!='churn'] #feature columns don't include churn as that is the target"
   ]
  },
  {
   "cell_type": "code",
   "execution_count": 37,
   "metadata": {},
   "outputs": [
    {
     "name": "stdout",
     "output_type": "stream",
     "text": [
      "root\n",
      " |-- churn: long (nullable = true)\n",
      " |-- count(DISTINCT artist): long (nullable = false)\n",
      " |-- visit_count: long (nullable = false)\n",
      " |-- count(DISTINCT song): long (nullable = false)\n",
      " |-- total_length: double (nullable = true)\n",
      " |-- registered_days: integer (nullable = true)\n",
      " |-- last_recent: integer (nullable = true)\n",
      " |-- gender: integer (nullable = true)\n",
      " |-- level: integer (nullable = true)\n",
      " |-- avg_daily_items: double (nullable = true)\n",
      " |-- About: double (nullable = true)\n",
      " |-- Add Friend: double (nullable = true)\n",
      " |-- Add to Playlist: double (nullable = true)\n",
      " |-- Downgrade: double (nullable = true)\n",
      " |-- Error: double (nullable = true)\n",
      " |-- Help: double (nullable = true)\n",
      " |-- Home: double (nullable = true)\n",
      " |-- Logout: double (nullable = true)\n",
      " |-- NextSong: double (nullable = true)\n",
      " |-- Roll Advert: double (nullable = true)\n",
      " |-- Save Settings: double (nullable = true)\n",
      " |-- Settings: double (nullable = true)\n",
      " |-- Submit Downgrade: double (nullable = true)\n",
      " |-- Submit Upgrade: double (nullable = true)\n",
      " |-- Thumbs Down: double (nullable = true)\n",
      " |-- Thumbs Up: double (nullable = true)\n",
      " |-- Upgrade: double (nullable = true)\n",
      " |-- count: long (nullable = false)\n",
      " |-- avg_session_duration_mins: double (nullable = false)\n",
      " |-- avg_gap_time_days: double (nullable = false)\n",
      " |-- count(DISTINCT sessionId): long (nullable = false)\n",
      "\n"
     ]
    }
   ],
   "source": [
    "user_churn.printSchema()"
   ]
  },
  {
   "cell_type": "markdown",
   "metadata": {},
   "source": [
    "#### Split data into Train & Test"
   ]
  },
  {
   "cell_type": "code",
   "execution_count": 21,
   "metadata": {},
   "outputs": [],
   "source": [
    "train, test = user_churn.randomSplit([0.7, 0.3], seed=42)\n",
    "train = train.cache()"
   ]
  },
  {
   "cell_type": "code",
   "execution_count": 51,
   "metadata": {},
   "outputs": [],
   "source": [
    "def build_model(classifier, param):\n",
    "    \"\"\"\n",
    "    Builds a model based on the inputs\n",
    "    Input:\n",
    "    classifier - type of classifier\n",
    "    param - built param grid\n",
    "    Output :\n",
    "    model - ML pipeline model\n",
    "    \"\"\"\n",
    "    assembler = VectorAssembler(inputCols=feature_columns, outputCol=\"features\")\n",
    "    scaler = MinMaxScaler(inputCol=\"features\", outputCol=\"scaled_features\")\n",
    "    pipeline = Pipeline(stages=[assembler, scaler, classifier])\n",
    "\n",
    "    model = CrossValidator(\n",
    "        estimator=pipeline,\n",
    "        estimatorParamMaps=param,\n",
    "        evaluator=MulticlassClassificationEvaluator(labelCol='churn', metricName='f1'),\n",
    "        numFolds=5,\n",
    "    )\n",
    "    return model"
   ]
  },
  {
   "cell_type": "markdown",
   "metadata": {},
   "source": [
    "F1 score is used as an evaluation metric because in case of a skewed dataset, accuracy is unreliable. F1 score is a combination of precision and recall (2PR/(P+R)) and hence gives a better result. Area under curve(auc) can also be used."
   ]
  },
  {
   "cell_type": "markdown",
   "metadata": {},
   "source": [
    "### 5.1 Logistic Regression\n",
    "Logistic Regression is the simplest classification algorithm. It is used as a baseline for evaluationg other models."
   ]
  },
  {
   "cell_type": "code",
   "execution_count": 23,
   "metadata": {},
   "outputs": [],
   "source": [
    "lr = LogisticRegression(featuresCol=\"scaled_features\", labelCol=\"churn\")\n",
    "lr_param = ParamGridBuilder().build()\n",
    "model = build_model(lr, lr_param)"
   ]
  },
  {
   "cell_type": "code",
   "execution_count": 24,
   "metadata": {},
   "outputs": [
    {
     "name": "stdout",
     "output_type": "stream",
     "text": [
      "CPU times: user 10.8 s, sys: 3.17 s, total: 14 s\n",
      "Wall time: 23min 55s\n"
     ]
    }
   ],
   "source": [
    "%%time\n",
    "fit_model = model.fit(train)"
   ]
  },
  {
   "cell_type": "code",
   "execution_count": 25,
   "metadata": {},
   "outputs": [],
   "source": [
    "pred = fit_model.transform(test)"
   ]
  },
  {
   "cell_type": "code",
   "execution_count": 26,
   "metadata": {},
   "outputs": [
    {
     "data": {
      "text/plain": [
       "[Row(prediction=0.0), Row(prediction=1.0)]"
      ]
     },
     "execution_count": 26,
     "metadata": {},
     "output_type": "execute_result"
    }
   ],
   "source": [
    "pred.select(\"prediction\").dropDuplicates().collect()"
   ]
  },
  {
   "cell_type": "code",
   "execution_count": 27,
   "metadata": {},
   "outputs": [
    {
     "name": "stdout",
     "output_type": "stream",
     "text": [
      "f1: 0.8103962131837309\n"
     ]
    }
   ],
   "source": [
    "evaluator = MulticlassClassificationEvaluator(predictionCol=\"prediction\", labelCol=\"churn\")\n",
    "f1_score = evaluator.evaluate(pred, {evaluator.metricName: \"f1\"})\n",
    "print(\"f1: {}\".format(f1_score))"
   ]
  },
  {
   "cell_type": "markdown",
   "metadata": {},
   "source": [
    "### 5.2 Random Forest "
   ]
  },
  {
   "cell_type": "code",
   "execution_count": 52,
   "metadata": {},
   "outputs": [],
   "source": [
    "rf = RandomForestClassifier(featuresCol=\"scaled_features\", labelCol=\"churn\")\n",
    "rf_param = ParamGridBuilder().build()\n",
    "rf_model = build_model(rf, rf_param)"
   ]
  },
  {
   "cell_type": "code",
   "execution_count": 53,
   "metadata": {},
   "outputs": [
    {
     "name": "stdout",
     "output_type": "stream",
     "text": [
      "CPU times: user 2.5 s, sys: 586 ms, total: 3.08 s\n",
      "Wall time: 5min 39s\n"
     ]
    }
   ],
   "source": [
    "%%time\n",
    "rf_fit_model = rf_model.fit(train)"
   ]
  },
  {
   "cell_type": "code",
   "execution_count": 54,
   "metadata": {},
   "outputs": [],
   "source": [
    "rf_pred = rf_fit_model.transform(test)"
   ]
  },
  {
   "cell_type": "code",
   "execution_count": 55,
   "metadata": {},
   "outputs": [
    {
     "name": "stdout",
     "output_type": "stream",
     "text": [
      "f1: 0.8300747170148985\n"
     ]
    }
   ],
   "source": [
    "rf_f1_score = evaluator.evaluate(rf_pred, {evaluator.metricName: \"f1\"})\n",
    "print(\"f1: {}\".format(rf_f1_score))"
   ]
  },
  {
   "cell_type": "markdown",
   "metadata": {},
   "source": [
    "### 5.3 Gradient Boosting"
   ]
  },
  {
   "cell_type": "code",
   "execution_count": 32,
   "metadata": {},
   "outputs": [],
   "source": [
    "gbt =GBTClassifier(featuresCol=\"scaled_features\", labelCol=\"churn\")\n",
    "gbt_param = ParamGridBuilder().build()\n",
    "gbt_model = build_model(gbt, gbt_param)"
   ]
  },
  {
   "cell_type": "code",
   "execution_count": 33,
   "metadata": {},
   "outputs": [
    {
     "name": "stdout",
     "output_type": "stream",
     "text": [
      "CPU times: user 24.2 s, sys: 6.71 s, total: 30.9 s\n",
      "Wall time: 57min 46s\n"
     ]
    }
   ],
   "source": [
    "%%time\n",
    "gbt_fit_model = gbt_model.fit(train)"
   ]
  },
  {
   "cell_type": "code",
   "execution_count": 34,
   "metadata": {},
   "outputs": [],
   "source": [
    "gbt_pred = gbt_fit_model.transform(test)"
   ]
  },
  {
   "cell_type": "code",
   "execution_count": 35,
   "metadata": {},
   "outputs": [
    {
     "data": {
      "text/plain": [
       "[Row(prediction=0.0), Row(prediction=1.0)]"
      ]
     },
     "execution_count": 35,
     "metadata": {},
     "output_type": "execute_result"
    }
   ],
   "source": [
    "gbt_pred.select(\"prediction\").dropDuplicates().collect()"
   ]
  },
  {
   "cell_type": "code",
   "execution_count": 36,
   "metadata": {},
   "outputs": [
    {
     "name": "stdout",
     "output_type": "stream",
     "text": [
      "f1: 0.8377792898504437\n"
     ]
    }
   ],
   "source": [
    "gbt_f1_score = evaluator.evaluate(gbt_pred, {evaluator.metricName: \"f1\"})\n",
    "print(\"f1: {}\".format(gbt_f1_score))"
   ]
  },
  {
   "cell_type": "markdown",
   "metadata": {},
   "source": [
    "With default parameters (without hyperparameter tuning), Random Forest(RF) gives me a better result than that of GBT classifier or Logistic Regression. It is also insensitive to imbalances. Hence, I will tune RF classifier. "
   ]
  },
  {
   "cell_type": "markdown",
   "metadata": {},
   "source": [
    "### 5.4 Hyperparameter tuning\n",
    "#### Feature Importances\n"
   ]
  },
  {
   "cell_type": "code",
   "execution_count": 66,
   "metadata": {},
   "outputs": [
    {
     "data": {
      "text/html": [
       "<div>\n",
       "<style scoped>\n",
       "    .dataframe tbody tr th:only-of-type {\n",
       "        vertical-align: middle;\n",
       "    }\n",
       "\n",
       "    .dataframe tbody tr th {\n",
       "        vertical-align: top;\n",
       "    }\n",
       "\n",
       "    .dataframe thead th {\n",
       "        text-align: right;\n",
       "    }\n",
       "</style>\n",
       "<table border=\"1\" class=\"dataframe\">\n",
       "  <thead>\n",
       "    <tr style=\"text-align: right;\">\n",
       "      <th></th>\n",
       "      <th>feature</th>\n",
       "      <th>importance</th>\n",
       "    </tr>\n",
       "  </thead>\n",
       "  <tbody>\n",
       "    <tr>\n",
       "      <th>0</th>\n",
       "      <td>last_recent</td>\n",
       "      <td>0.231291</td>\n",
       "    </tr>\n",
       "    <tr>\n",
       "      <th>1</th>\n",
       "      <td>registered_days</td>\n",
       "      <td>0.141142</td>\n",
       "    </tr>\n",
       "    <tr>\n",
       "      <th>2</th>\n",
       "      <td>Thumbs Down</td>\n",
       "      <td>0.095226</td>\n",
       "    </tr>\n",
       "    <tr>\n",
       "      <th>3</th>\n",
       "      <td>avg_gap_time_days</td>\n",
       "      <td>0.064758</td>\n",
       "    </tr>\n",
       "    <tr>\n",
       "      <th>4</th>\n",
       "      <td>NextSong</td>\n",
       "      <td>0.050056</td>\n",
       "    </tr>\n",
       "    <tr>\n",
       "      <th>5</th>\n",
       "      <td>Downgrade</td>\n",
       "      <td>0.044395</td>\n",
       "    </tr>\n",
       "    <tr>\n",
       "      <th>6</th>\n",
       "      <td>count(DISTINCT sessionId)</td>\n",
       "      <td>0.036943</td>\n",
       "    </tr>\n",
       "    <tr>\n",
       "      <th>7</th>\n",
       "      <td>avg_daily_items</td>\n",
       "      <td>0.032534</td>\n",
       "    </tr>\n",
       "    <tr>\n",
       "      <th>8</th>\n",
       "      <td>Thumbs Up</td>\n",
       "      <td>0.028834</td>\n",
       "    </tr>\n",
       "    <tr>\n",
       "      <th>9</th>\n",
       "      <td>Save Settings</td>\n",
       "      <td>0.026667</td>\n",
       "    </tr>\n",
       "    <tr>\n",
       "      <th>10</th>\n",
       "      <td>Settings</td>\n",
       "      <td>0.024305</td>\n",
       "    </tr>\n",
       "    <tr>\n",
       "      <th>11</th>\n",
       "      <td>Add to Playlist</td>\n",
       "      <td>0.023578</td>\n",
       "    </tr>\n",
       "    <tr>\n",
       "      <th>12</th>\n",
       "      <td>Roll Advert</td>\n",
       "      <td>0.023425</td>\n",
       "    </tr>\n",
       "    <tr>\n",
       "      <th>13</th>\n",
       "      <td>visit_count</td>\n",
       "      <td>0.022471</td>\n",
       "    </tr>\n",
       "    <tr>\n",
       "      <th>14</th>\n",
       "      <td>total_length</td>\n",
       "      <td>0.021633</td>\n",
       "    </tr>\n",
       "    <tr>\n",
       "      <th>15</th>\n",
       "      <td>Home</td>\n",
       "      <td>0.016457</td>\n",
       "    </tr>\n",
       "    <tr>\n",
       "      <th>16</th>\n",
       "      <td>count(DISTINCT song)</td>\n",
       "      <td>0.015084</td>\n",
       "    </tr>\n",
       "    <tr>\n",
       "      <th>17</th>\n",
       "      <td>Logout</td>\n",
       "      <td>0.014425</td>\n",
       "    </tr>\n",
       "    <tr>\n",
       "      <th>18</th>\n",
       "      <td>Error</td>\n",
       "      <td>0.013499</td>\n",
       "    </tr>\n",
       "    <tr>\n",
       "      <th>19</th>\n",
       "      <td>count(DISTINCT artist)</td>\n",
       "      <td>0.013027</td>\n",
       "    </tr>\n",
       "    <tr>\n",
       "      <th>20</th>\n",
       "      <td>Upgrade</td>\n",
       "      <td>0.012791</td>\n",
       "    </tr>\n",
       "    <tr>\n",
       "      <th>21</th>\n",
       "      <td>Submit Upgrade</td>\n",
       "      <td>0.011960</td>\n",
       "    </tr>\n",
       "    <tr>\n",
       "      <th>22</th>\n",
       "      <td>Help</td>\n",
       "      <td>0.010876</td>\n",
       "    </tr>\n",
       "    <tr>\n",
       "      <th>23</th>\n",
       "      <td>About</td>\n",
       "      <td>0.008632</td>\n",
       "    </tr>\n",
       "    <tr>\n",
       "      <th>24</th>\n",
       "      <td>avg_session_duration_mins</td>\n",
       "      <td>0.005329</td>\n",
       "    </tr>\n",
       "    <tr>\n",
       "      <th>25</th>\n",
       "      <td>count</td>\n",
       "      <td>0.005280</td>\n",
       "    </tr>\n",
       "    <tr>\n",
       "      <th>26</th>\n",
       "      <td>Add Friend</td>\n",
       "      <td>0.003071</td>\n",
       "    </tr>\n",
       "    <tr>\n",
       "      <th>27</th>\n",
       "      <td>gender</td>\n",
       "      <td>0.002313</td>\n",
       "    </tr>\n",
       "    <tr>\n",
       "      <th>28</th>\n",
       "      <td>Submit Downgrade</td>\n",
       "      <td>0.000000</td>\n",
       "    </tr>\n",
       "    <tr>\n",
       "      <th>29</th>\n",
       "      <td>level</td>\n",
       "      <td>0.000000</td>\n",
       "    </tr>\n",
       "  </tbody>\n",
       "</table>\n",
       "</div>"
      ],
      "text/plain": [
       "                      feature  importance\n",
       "0                 last_recent    0.231291\n",
       "1             registered_days    0.141142\n",
       "2                 Thumbs Down    0.095226\n",
       "3           avg_gap_time_days    0.064758\n",
       "4                    NextSong    0.050056\n",
       "5                   Downgrade    0.044395\n",
       "6   count(DISTINCT sessionId)    0.036943\n",
       "7             avg_daily_items    0.032534\n",
       "8                   Thumbs Up    0.028834\n",
       "9               Save Settings    0.026667\n",
       "10                   Settings    0.024305\n",
       "11            Add to Playlist    0.023578\n",
       "12                Roll Advert    0.023425\n",
       "13                visit_count    0.022471\n",
       "14               total_length    0.021633\n",
       "15                       Home    0.016457\n",
       "16       count(DISTINCT song)    0.015084\n",
       "17                     Logout    0.014425\n",
       "18                      Error    0.013499\n",
       "19     count(DISTINCT artist)    0.013027\n",
       "20                    Upgrade    0.012791\n",
       "21             Submit Upgrade    0.011960\n",
       "22                       Help    0.010876\n",
       "23                      About    0.008632\n",
       "24  avg_session_duration_mins    0.005329\n",
       "25                      count    0.005280\n",
       "26                 Add Friend    0.003071\n",
       "27                     gender    0.002313\n",
       "28           Submit Downgrade    0.000000\n",
       "29                      level    0.000000"
      ]
     },
     "execution_count": 66,
     "metadata": {},
     "output_type": "execute_result"
    }
   ],
   "source": [
    "rf_feature_imp = pd.DataFrame({\"feature\":feature_columns,\"importance\" : rf_fit_model.bestModel.stages[2].featureImportances})\n",
    "rf_feature_imp.sort_values(by = \"importance\",ascending = False).reset_index(drop=True)"
   ]
  },
  {
   "cell_type": "code",
   "execution_count": 67,
   "metadata": {},
   "outputs": [],
   "source": [
    "classifier = RandomForestClassifier(featuresCol=\"scaled_features\", labelCol=\"churn\")"
   ]
  },
  {
   "cell_type": "code",
   "execution_count": 73,
   "metadata": {},
   "outputs": [],
   "source": [
    "param_grid = ParamGridBuilder() \\\n",
    "    .addGrid(classifier.maxDepth,[10,20]) \\\n",
    "    .addGrid(classifier.numTrees, [20, 70]) \\\n",
    "    .build()\n",
    "\n",
    "model_tuned = build_model(classifier, param_grid)"
   ]
  },
  {
   "cell_type": "code",
   "execution_count": 74,
   "metadata": {},
   "outputs": [
    {
     "name": "stdout",
     "output_type": "stream",
     "text": [
      "CPU times: user 12.6 s, sys: 3.54 s, total: 16.1 s\n",
      "Wall time: 33min 21s\n"
     ]
    }
   ],
   "source": [
    "%%time\n",
    "fit_model_tuned = model_tuned.fit(train)"
   ]
  },
  {
   "cell_type": "code",
   "execution_count": 75,
   "metadata": {},
   "outputs": [],
   "source": [
    "best_model = fit_model_tuned.bestModel"
   ]
  },
  {
   "cell_type": "code",
   "execution_count": 76,
   "metadata": {},
   "outputs": [],
   "source": [
    "best_model_pred = best_model.transform(test)"
   ]
  },
  {
   "cell_type": "code",
   "execution_count": 77,
   "metadata": {},
   "outputs": [
    {
     "name": "stdout",
     "output_type": "stream",
     "text": [
      "f1: 0.8738283365503451\n"
     ]
    }
   ],
   "source": [
    "best_f1_score = evaluator.evaluate(best_model_pred, {evaluator.metricName: \"f1\"})\n",
    "print(\"f1: {}\".format(best_f1_score))"
   ]
  },
  {
   "cell_type": "markdown",
   "metadata": {},
   "source": [
    "# 6.0 Final Steps\n",
    "Clean up your code, adding comments and renaming variables to make the code easier to read and maintain. Refer to the Spark Project Overview page and Data Scientist Capstone Project Rubric to make sure you are including all components of the capstone project and meet all expectations. Remember, this includes thorough documentation in a README file in a Github repository, as well as a web app or blog post."
   ]
  }
 ],
 "metadata": {
  "kernelspec": {
   "display_name": "Python 3",
   "language": "python",
   "name": "python3"
  },
  "language_info": {
   "codemirror_mode": {
    "name": "ipython",
    "version": 3
   },
   "file_extension": ".py",
   "mimetype": "text/x-python",
   "name": "python",
   "nbconvert_exporter": "python",
   "pygments_lexer": "ipython3",
   "version": "3.6.3"
  }
 },
 "nbformat": 4,
 "nbformat_minor": 2
}
